{
 "cells": [
  {
   "cell_type": "markdown",
   "id": "7803bc9d-5c01-489a-ad21-78926b067997",
   "metadata": {},
   "source": [
    "## 1. Write a python program to print \"Hello Python\"."
   ]
  },
  {
   "cell_type": "code",
   "execution_count": 5,
   "id": "99c27de7-d972-4bcc-803b-d8f058b0f727",
   "metadata": {},
   "outputs": [
    {
     "name": "stdout",
     "output_type": "stream",
     "text": [
      "Hello Python\n"
     ]
    }
   ],
   "source": [
    "print(\"Hello Python\")"
   ]
  },
  {
   "cell_type": "markdown",
   "id": "938e0b0b-26fa-4bd1-9d16-885f1e352551",
   "metadata": {},
   "source": [
    "## 2. Write a Python program to do arithmetical operations addition and division."
   ]
  },
  {
   "cell_type": "code",
   "execution_count": 7,
   "id": "c09ae5cc-2481-4700-9657-460a2df8b6d8",
   "metadata": {},
   "outputs": [
    {
     "name": "stdin",
     "output_type": "stream",
     "text": [
      "Enter the first number :  20\n",
      "Enter the second number :  30\n"
     ]
    },
    {
     "name": "stdout",
     "output_type": "stream",
     "text": [
      "The sum is :  50\n"
     ]
    }
   ],
   "source": [
    "num1 = int(input(\"Enter the first number : \"))\n",
    "num2 = int(input(\"Enter the second number : \"))\n",
    "result = num1 + num2\n",
    "print(\"The sum is : \",result)"
   ]
  },
  {
   "cell_type": "code",
   "execution_count": 8,
   "id": "9c0c478c-e729-4681-96a2-28e909e24440",
   "metadata": {},
   "outputs": [
    {
     "name": "stdin",
     "output_type": "stream",
     "text": [
      "Enter the first number :  20\n",
      "Enter the second number :  2\n"
     ]
    },
    {
     "name": "stdout",
     "output_type": "stream",
     "text": [
      "The divide value is :  10.0\n"
     ]
    }
   ],
   "source": [
    "num1 = int(input(\"Enter the first number : \"))\n",
    "num2 = int(input(\"Enter the second number : \"))\n",
    "result = num1 / num2\n",
    "print(\"The divide value is : \",result)"
   ]
  },
  {
   "cell_type": "markdown",
   "id": "086846de-f516-4f9a-9225-e48c85979120",
   "metadata": {},
   "source": [
    "## 3. Write a Python program to find the area of a triangle."
   ]
  },
  {
   "cell_type": "code",
   "execution_count": 9,
   "id": "6fc4cead-e05d-4277-bd91-7118c25197b6",
   "metadata": {},
   "outputs": [
    {
     "name": "stdin",
     "output_type": "stream",
     "text": [
      "Enter the base value of the triangle :  10\n",
      "Enter the height value of the triangle :  15\n"
     ]
    },
    {
     "name": "stdout",
     "output_type": "stream",
     "text": [
      "The area of the triangle is  :  75.0\n"
     ]
    }
   ],
   "source": [
    "base = float(input(\"Enter the base value of the triangle : \"))\n",
    "height = float(input(\"Enter the height value of the triangle : \"))\n",
    "area = (1/2) * base * height \n",
    "print(\"The area of the triangle is  : \",area)"
   ]
  },
  {
   "cell_type": "markdown",
   "id": "b9f48543-e935-49d7-a821-e8a41ca85321",
   "metadata": {},
   "source": [
    "## 4. Write a Python program to swap two variables."
   ]
  },
  {
   "cell_type": "code",
   "execution_count": 10,
   "id": "53ad07c4-09bb-4ed0-9c99-40f7ca042d48",
   "metadata": {},
   "outputs": [
    {
     "name": "stdin",
     "output_type": "stream",
     "text": [
      "Enter the first value :  2\n",
      "Enter the second value :  3\n"
     ]
    },
    {
     "name": "stdout",
     "output_type": "stream",
     "text": [
      "\n",
      "\n",
      "Before Swapping\n",
      "\n",
      "The value of a is :  2\n",
      "The value of b is :  3\n",
      "\n",
      "\n",
      "After Swapping\n",
      "\n",
      "The value of a is :  3\n",
      "The value of b is :  2\n"
     ]
    }
   ],
   "source": [
    "a = int(input(\"Enter the first value : \"))\n",
    "b = int(input(\"Enter the second value : \"))\n",
    "print(\"\\n\")\n",
    "print(\"Before Swapping\\n\")\n",
    "print(\"The value of a is : \",a)\n",
    "print(\"The value of b is : \",b)\n",
    "temp = a \n",
    "a = b\n",
    "b = temp\n",
    "print(\"\\n\")\n",
    "print(\"After Swapping\\n\")\n",
    "print(\"The value of a is : \",a)\n",
    "print(\"The value of b is : \",b)\n"
   ]
  },
  {
   "cell_type": "markdown",
   "id": "a2f5949b-8d99-49c7-b1c3-f41ec6e2de06",
   "metadata": {},
   "source": [
    "## 5. Write a Python program to generate a random number."
   ]
  },
  {
   "cell_type": "code",
   "execution_count": 11,
   "id": "bffba2b9-95c5-43b2-9e55-885ff33ff0b6",
   "metadata": {},
   "outputs": [
    {
     "name": "stdout",
     "output_type": "stream",
     "text": [
      "28\n"
     ]
    }
   ],
   "source": [
    "import random \n",
    "print(random.randint(1,100))"
   ]
  },
  {
   "cell_type": "markdown",
   "id": "aacf75e3-3fd9-4b31-9cd3-427b213fdc0f",
   "metadata": {},
   "source": [
    "## 6. Write a Python program to convert kilometers to miles"
   ]
  },
  {
   "cell_type": "code",
   "execution_count": null,
   "id": "d3547487-6cdf-4ef2-9db5-34fb8b323489",
   "metadata": {},
   "outputs": [],
   "source": [
    "kilometers = float(input(\"Enter distance in kilometers : \"))\n",
    "conversion_factor = 0.621\n",
    "miles = kilometers * conversion_factor\n",
    "print(\"The mile value is : \",miles)\n"
   ]
  },
  {
   "cell_type": "markdown",
   "id": "fe158c9b-c9d3-452c-b892-b7ad7ab270f7",
   "metadata": {},
   "source": [
    "## 7. Write a Python program to convert Celsius to Fahrenheit."
   ]
  },
  {
   "cell_type": "code",
   "execution_count": 20,
   "id": "7cc1904d-16df-484e-ac23-dd1526f2ae8d",
   "metadata": {},
   "outputs": [
    {
     "name": "stdin",
     "output_type": "stream",
     "text": [
      "Enter the temperature in celcius :  37\n"
     ]
    },
    {
     "name": "stdout",
     "output_type": "stream",
     "text": [
      "Fahrenheit value is :  98.6\n"
     ]
    }
   ],
   "source": [
    "celsius = float(input(\"Enter the temperature in celcius : \"))\n",
    "fahrenheit = (celsius * 9/5)+32\n",
    "print(\"Fahrenheit value is : \",fahrenheit)"
   ]
  },
  {
   "cell_type": "markdown",
   "id": "20b035b7-8043-40ee-b1c0-628a11118bae",
   "metadata": {},
   "source": [
    "## 8. Write a Python program to display calendar."
   ]
  },
  {
   "cell_type": "code",
   "execution_count": 21,
   "id": "35956dca-d3cc-4fcd-8cca-d6d9b0cfa7df",
   "metadata": {},
   "outputs": [
    {
     "name": "stdin",
     "output_type": "stream",
     "text": [
      "Enter year :  1997\n",
      "Enter month :  1\n"
     ]
    },
    {
     "name": "stdout",
     "output_type": "stream",
     "text": [
      "    January 1997\n",
      "Mo Tu We Th Fr Sa Su\n",
      "       1  2  3  4  5\n",
      " 6  7  8  9 10 11 12\n",
      "13 14 15 16 17 18 19\n",
      "20 21 22 23 24 25 26\n",
      "27 28 29 30 31\n",
      "\n"
     ]
    }
   ],
   "source": [
    "import calendar\n",
    "\n",
    "year = int(input(\"Enter year : \"))\n",
    "month = int(input(\"Enter month : \"))\n",
    "\n",
    "cal = calendar.month(year,month)\n",
    "print(cal)"
   ]
  },
  {
   "cell_type": "markdown",
   "id": "b20dc645-4d33-4729-9969-3b80d3e70eb5",
   "metadata": {},
   "source": [
    "## 9. Write a Python program to swap two variables without temp variable."
   ]
  },
  {
   "cell_type": "code",
   "execution_count": 1,
   "id": "f92e561f-b538-44ca-8339-9a69962d2b28",
   "metadata": {},
   "outputs": [
    {
     "name": "stdout",
     "output_type": "stream",
     "text": [
      "After swapping : \n",
      "a =  10\n",
      "b =  15\n"
     ]
    }
   ],
   "source": [
    "a = 15\n",
    "b = 10\n",
    "a,b = b,a\n",
    "\n",
    "print(\"After swapping : \")\n",
    "print(\"a = \",a)\n",
    "print(\"b = \",b)"
   ]
  },
  {
   "cell_type": "markdown",
   "id": "f9227a24-fe54-454c-a35d-b29b5a4ddcd5",
   "metadata": {},
   "source": [
    "## 10. Write a Python Program to Check if a Number is Positive, Negative or Zero"
   ]
  },
  {
   "cell_type": "code",
   "execution_count": 4,
   "id": "7fe789d0-10f7-48d0-b88a-e99b1cb87201",
   "metadata": {},
   "outputs": [
    {
     "name": "stdin",
     "output_type": "stream",
     "text": [
      "Enter a number :  0\n"
     ]
    },
    {
     "name": "stdout",
     "output_type": "stream",
     "text": [
      "Zero\n"
     ]
    }
   ],
   "source": [
    "num = float(input(\"Enter a number : \"))\n",
    "if num > 0:\n",
    "    print(\"Positive number\")\n",
    "elif num == 0:\n",
    "    print(\"Zero\")\n",
    "else:\n",
    "    print(\"Negative number\")"
   ]
  },
  {
   "cell_type": "code",
   "execution_count": null,
   "id": "de685850-b69f-4e81-8c84-7d619427e2e6",
   "metadata": {},
   "outputs": [],
   "source": []
  }
 ],
 "metadata": {
  "kernelspec": {
   "display_name": "Python 3 (ipykernel)",
   "language": "python",
   "name": "python3"
  },
  "language_info": {
   "codemirror_mode": {
    "name": "ipython",
    "version": 3
   },
   "file_extension": ".py",
   "mimetype": "text/x-python",
   "name": "python",
   "nbconvert_exporter": "python",
   "pygments_lexer": "ipython3",
   "version": "3.12.7"
  }
 },
 "nbformat": 4,
 "nbformat_minor": 5
}
